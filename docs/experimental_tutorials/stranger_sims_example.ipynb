{
 "cells": [
  {
   "cell_type": "markdown",
   "metadata": {},
   "source": [
    "# Including other Simulators as Actors\n",
    "\n",
    "This example demonstrates how to integrate another python simulator such as the [windpowerlib](https://github.com/wind-python/windpowerlib) library to simulate a microgrid consisting of a data center and a\n",
    "wind farm."
   ]
  },
  {
   "cell_type": "code",
   "execution_count": 11,
   "metadata": {},
   "outputs": [],
   "source": [
    "import vessim as vs\n",
    "from windpowerlib import WindTurbine, ModelChain\n",
    "import pandas as pd\n",
    "import numpy as np\n",
    "\n",
    "# Hotfix to execute asyncio in Jupyter\n",
    "import nest_asyncio\n",
    "nest_asyncio.apply()\n",
    "\n",
    "some_date = \"2024-07-17\""
   ]
  },
  {
   "cell_type": "markdown",
   "metadata": {},
   "source": [
    "We configure wind turbines to calculate power output using synthetic weather\n",
    "data. We define turbine data (Enercon E-126/4200, 135m hub height) and use a\n",
    "list comprehension to create 30 turbines. Weather data for 24 hours is generated\n",
    "with random wind speeds (5-15 km/h), temperatures (10-20°C), and a constant\n",
    "roughness length of 0.1, organized in a pandas DataFrame. Using windpowerlib's\n",
    "ModelChain, each turbine's power output is calculated based on the weather data.\n",
    "The total power output from all 30 turbines is then summed."
   ]
  },
  {
   "cell_type": "code",
   "execution_count": 12,
   "metadata": {},
   "outputs": [],
   "source": [
    "\n",
    "turbine_data = {\n",
    "    \"turbine_type\": \"E-126/4200\",\n",
    "    \"hub_height\": 135,\n",
    "}\n",
    "number_turbines = 30\n",
    "wind_turbines = [WindTurbine(**turbine_data) for _ in range(number_turbines)]\n",
    "hours = 24\n",
    "\n",
    "wind_speed = pd.Series(\n",
    "    np.random.uniform(5, 15, hours),\n",
    "    index=pd.date_range(start=some_date, periods=hours, freq=\"H\"),\n",
    ")\n",
    "temperature = pd.Series(\n",
    "    np.random.uniform(10, 20, hours),\n",
    "    index=pd.date_range(start=some_date, periods=hours, freq=\"H\"),\n",
    ")\n",
    "roughness = pd.Series(\n",
    "    [0.1] * hours,\n",
    "    index=pd.date_range(start=some_date, periods=hours, freq=\"H\")\n",
    ")\n",
    "\n",
    "# the numbers are common reference heights\n",
    "weather = pd.DataFrame(\n",
    "    {\n",
    "        (\"wind_speed\", 10): wind_speed,  # wind speed defined at height 10m\n",
    "        (\"temperature\", 2): temperature,  # temperature at 2m\n",
    "        (\"roughness_length\", 0): roughness,\n",
    "    }\n",
    ")\n",
    "\n",
    "wind_power_output_all = sum(\n",
    "    ModelChain(turbine).run_model(weather).power_output for turbine in wind_turbines\n",
    ")"
   ]
  },
  {
   "cell_type": "markdown",
   "metadata": {},
   "source": [
    "Using the pandas Dataframe from windpowerlib, we can now use a `Trace` to create an `Actor` and add it to our microgrid."
   ]
  },
  {
   "cell_type": "code",
   "execution_count": 13,
   "metadata": {},
   "outputs": [
    {
     "name": "stderr",
     "output_type": "stream",
     "text": [
      "2024-09-03 09:49:56.166 | INFO     | mosaik.scenario:start:311 - Starting \"Actor\" as \"load\" ...\n",
      "2024-09-03 09:49:56.170 | INFO     | mosaik.scenario:start:311 - Starting \"Actor\" as \"wind_turbine\" ...\n",
      "2024-09-03 09:49:56.171 | INFO     | mosaik.scenario:start:311 - Starting \"Grid\" as \"Grid-0\" ...\n",
      "2024-09-03 09:49:56.172 | INFO     | mosaik.scenario:start:311 - Starting \"Controller\" as \"Monitor-2\" ...\n",
      "2024-09-03 09:49:56.173 | INFO     | mosaik.scenario:start:311 - Starting \"Storage\" as \"Storage-0\" ...\n",
      "2024-09-03 09:49:56.175 | INFO     | mosaik.scenario:run:651 - Starting simulation.\n",
      "100%|\u001B[32m██████████\u001B[0m| 86400/86400 [00:00<00:00, 1792118.50steps/s]\n",
      "2024-09-03 09:49:56.226 | INFO     | mosaik.scenario:run:708 - Simulation finished successfully.\n"
     ]
    }
   ],
   "source": [
    "environment = vs.Environment(sim_start=some_date)\n",
    "\n",
    "monitor = vs.Monitor()\n",
    "assert isinstance(wind_power_output_all, pd.Series)\n",
    "environment.add_microgrid(\n",
    "    actors=[\n",
    "        vs.Actor(\n",
    "            name=\"load\",\n",
    "            signal=vs.ConstantSignal(value=120000000), # 120 MW\n",
    "        ),\n",
    "        vs.Actor(\n",
    "            name=\"wind_turbine\",\n",
    "            signal=vs.Trace(wind_power_output_all)\n",
    "        ),\n",
    "    ],\n",
    "    controllers=[monitor],\n",
    "    step_size=3600,\n",
    ")\n",
    "\n",
    "environment.run(until=24 * 3600)  # 24h\n",
    "monitor.to_csv(\"result.csv\")"
   ]
  },
  {
   "cell_type": "code",
   "metadata": {},
   "outputs": [],
   "source": "import pandas as pd\nimport plotly.graph_objects as go\n\ndf = pd.read_csv(\"result.csv\", parse_dates=[0], index_col=0)\n\n# Create the plot\nfig = go.Figure()\n\n# Add load trace\nfig.add_trace(go.Scatter(\n    x=df.index, \n    y=df[\"load.p\"], \n    mode='lines',\n    name=\"Load\",\n    line=dict(color=\"blue\")\n))\n\n# Add wind turbine trace\nfig.add_trace(go.Scatter(\n    x=df.index, \n    y=df[\"wind_turbine.p\"], \n    mode='lines',\n    name=\"Wind\",\n    line=dict(color=\"orange\")\n))\n\n# Update layout\nfig.update_layout(\n    title=\"Wind Farm and Data Center Power Over Time\",\n    xaxis_title=\"Time\",\n    yaxis_title=\"Power (W)\",\n    hovermode='x unified',\n    showlegend=True,\n    margin=dict(l=0, t=40, b=0, r=0)\n)\n\n# Update x-axis to show hours\nfig.update_xaxes(tickformat=\"%H\")\n\nfig.show()",
   "execution_count": null
  }
 ],
 "metadata": {
  "kernelspec": {
   "display_name": "Python 3 (ipykernel)",
   "language": "python",
   "name": "python3"
  },
  "language_info": {
   "codemirror_mode": {
    "name": "ipython",
    "version": 3
   },
   "file_extension": ".py",
   "mimetype": "text/x-python",
   "name": "python",
   "nbconvert_exporter": "python",
   "pygments_lexer": "ipython3",
   "version": "3.8.19"
  }
 },
 "nbformat": 4,
 "nbformat_minor": 4
}
