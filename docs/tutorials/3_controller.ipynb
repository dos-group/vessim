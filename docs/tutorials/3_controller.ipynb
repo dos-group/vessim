{
 "cells": [
  {
   "cell_type": "markdown",
   "metadata": {},
   "source": [
    "# Controllers\n",
    "\n",
    "To actively manipulate the computing or energy systems during experiments, we need to implement a custom `Controller`.\n",
    "\n",
    "In this example, our controller will adjust the power consumption of the compute nodes depending on the current power delta. "
   ]
  },
  {
   "cell_type": "code",
   "execution_count": 1,
   "metadata": {},
   "outputs": [],
   "source": [
    "from __future__ import annotations\n",
    "import vessim as vs\n",
    "\n",
    "# Hotfix to execute asyncio in Jupyter\n",
    "import nest_asyncio\n",
    "nest_asyncio.apply()"
   ]
  },
  {
   "cell_type": "markdown",
   "metadata": {},
   "source": [
    "The most important aspect of this procedure is the implementation of the\n",
    "`step()` method, which needs to be implemented as dictated by the Controller\n",
    "ABC. The `step()` method is called every simulation step and allows a Controller\n",
    "to act on the power delta from the Microgrid, the current simulation time and\n",
    "the activity of the Actors. The `SimpleLoadBalancingController` only utilizes\n",
    "the power delta and adjusts, depending on this value, the power consumption of\n",
    "the computing system and in turn the power delta in the next simulation step."
   ]
  },
  {
   "cell_type": "code",
   "execution_count": 2,
   "metadata": {},
   "outputs": [],
   "source": [
    "class SimpleLoadBalancingController(vs.Controller):\n",
    "    def __init__(self, nodes: list[vs.ConstantSignal]):\n",
    "        super().__init__()\n",
    "        self.nodes = nodes\n",
    "        # save original node power consumption\n",
    "        self.node_p = {node.name: node.now() for node in self.nodes}\n",
    "\n",
    "    def step(self, time: int, p_delta: float, e_delta: float, state: dict) -> None:\n",
    "        for node in self.nodes:\n",
    "            new_power = self.node_p[node.name]\n",
    "            if p_delta < 0:\n",
    "                new_power *= 0.3\n",
    "            node.set_value(new_power)"
   ]
  },
  {
   "cell_type": "markdown",
   "metadata": {},
   "source": [
    "Now we can add the controller to the basic scenario by instantiating it with a\n",
    "reference to the power meters it can control and the maximum load adjustment for\n",
    "each step. The rest of the scenario remains unchanged."
   ]
  },
  {
   "cell_type": "code",
   "execution_count": 3,
   "metadata": {},
   "outputs": [
    {
     "name": "stderr",
     "output_type": "stream",
     "text": [
      "2024-06-21 11:43:37.514 | INFO     | mosaik.scenario:start:311 - Starting \"Actor\" as \"ComputingSystem-0\" ...\n",
      "2024-06-21 11:43:37.515 | INFO     | mosaik.scenario:start:311 - Starting \"Actor\" as \"solar\" ...\n",
      "2024-06-21 11:43:37.516 | INFO     | mosaik.scenario:start:311 - Starting \"Grid\" as \"Grid-0\" ...\n",
      "2024-06-21 11:43:37.516 | INFO     | mosaik.scenario:start:311 - Starting \"Controller\" as \"Monitor-0\" ...\n",
      "2024-06-21 11:43:37.517 | INFO     | mosaik.scenario:start:311 - Starting \"Controller\" as \"SimpleLoadBalancingController-0\" ...\n",
      "2024-06-21 11:43:37.518 | INFO     | mosaik.scenario:start:311 - Starting \"Storage\" as \"Storage-0\" ...\n",
      "2024-06-21 11:43:37.519 | INFO     | mosaik.scenario:run:651 - Starting simulation.\n",
      "100%|\u001b[32m██████████\u001b[0m| 86400/86400 [00:01<00:00, 51383.86steps/s]\n",
      "2024-06-21 11:43:39.203 | INFO     | mosaik.scenario:run:708 - Simulation finished successfully.\n"
     ]
    }
   ],
   "source": [
    "environment = vs.Environment(sim_start=\"2022-06-09 00:00:00\")\n",
    "\n",
    "nodes: list = [\n",
    "    vs.ConstantSignal(value=200),\n",
    "    vs.ConstantSignal(value=250),\n",
    "]\n",
    "monitor = vs.Monitor()  # Stores simulation result on each step\n",
    "load_balancer = SimpleLoadBalancingController(nodes=nodes)\n",
    "environment.add_microgrid(\n",
    "    actors=[\n",
    "        vs.ComputingSystem(nodes=nodes, pue=1.6),\n",
    "        vs.Actor(\n",
    "            name=\"solar\",\n",
    "            signal=vs.Trace.load(\n",
    "                \"solcast2022_global\", column=\"Berlin\", params={\"scale\": 5000}\n",
    "            ),\n",
    "        ),\n",
    "    ],\n",
    "    storage=vs.SimpleBattery(capacity=500, initial_soc=0.8),\n",
    "    controllers=[monitor, load_balancer],\n",
    "    step_size=60,  # Global step size (can be overridden by actors or controllers)\n",
    ")\n",
    "\n",
    "environment.run(until=24 * 3600)  # 24h\n",
    "monitor.to_csv(\"result.csv\")"
   ]
  },
  {
   "cell_type": "markdown",
   "metadata": {},
   "source": [
    "Compared to the basic example, our computing system utilizes less power from the grid when solar energy production is inadequate, thanks to our load balancer."
   ]
  },
  {
   "cell_type": "code",
   "metadata": {},
   "outputs": [],
   "source": "import pandas as pd\nimport plotly.graph_objects as go\n\ndf = pd.read_csv(\"result.csv\", parse_dates=[0], index_col=0)\n# divide e_delta by step size because e_delta is energy\ndf[\"grid_power\"] = df[\"e_delta\"] / 60\n\n# Create the plot\nfig = go.Figure()\n\n# Add grid power trace\nfig.add_trace(go.Scatter(\n    x=df.index, \n    y=df[\"grid_power\"], \n    mode='lines',\n    name=\"Grid Power\",\n    line=dict(color=\"blue\")\n))\n\n# Add solar power trace\nfig.add_trace(go.Scatter(\n    x=df.index, \n    y=df[\"solar.p\"], \n    mode='lines',\n    name=\"Solar\",\n    line=dict(color=\"orange\")\n))\n\n# Update layout\nfig.update_layout(\n    title=\"Load Balancing Controller - Grid and Solar Power Over Time\",\n    xaxis_title=\"Time\",\n    yaxis_title=\"Power (W)\",\n    hovermode='x unified',\n    showlegend=True,\n    margin=dict(l=0, t=40, b=0, r=0)\n)\n\n# Update x-axis to show hours\nfig.update_xaxes(tickformat=\"%H\")\n\nfig.show()"
  }
 ],
 "metadata": {
  "kernelspec": {
   "display_name": "Python 3 (ipykernel)",
   "language": "python",
   "name": "python3"
  },
  "language_info": {
   "codemirror_mode": {
    "name": "ipython",
    "version": 3
   },
   "file_extension": ".py",
   "mimetype": "text/x-python",
   "name": "python",
   "nbconvert_exporter": "python",
   "pygments_lexer": "ipython3",
   "version": "3.8.19"
  }
 },
 "nbformat": 4,
 "nbformat_minor": 4
}