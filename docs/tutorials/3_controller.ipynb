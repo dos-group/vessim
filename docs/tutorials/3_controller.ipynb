{
 "cells": [
  {
   "cell_type": "markdown",
   "metadata": {},
   "source": [
    "# Controllers\n",
    "\n",
    "To actively manipulate the computing or energy systems during experiments, we need to implement a custom `Controller`.\n",
    "\n",
    "In this example, our controller will adjust the power consumption of the compute nodes depending on the current power delta. "
   ]
  },
  {
   "cell_type": "code",
   "execution_count": 1,
   "metadata": {},
   "outputs": [],
   "source": [
    "from __future__ import annotations\n",
    "import vessim as vs\n",
    "\n",
    "# Hotfix to execute asyncio in Jupyter\n",
    "import nest_asyncio\n",
    "nest_asyncio.apply()"
   ]
  },
  {
   "cell_type": "markdown",
   "metadata": {},
   "source": [
    "The most important aspect of this procedure is the implementation of the\n",
    "`step()` method, which needs to be implemented as dictated by the Controller\n",
    "ABC. The `step()` method is called every simulation step and allows a Controller\n",
    "to act on the power delta from the Microgrid, the current simulation time and\n",
    "the activity of the Actors. The `SimpleLoadBalancingController` only utilizes\n",
    "the power delta and adjusts, depending on this value, the power consumption of\n",
    "the computing system and in turn the power delta in the next simulation step."
   ]
  },
  {
   "cell_type": "code",
   "execution_count": 2,
   "metadata": {},
   "outputs": [],
   "source": [
    "class SimpleLoadBalancingController(vs.Controller):\n",
    "    def __init__(self, nodes: list[vs.ConstantSignal]):\n",
    "        super().__init__()\n",
    "        self.nodes = nodes\n",
    "        # save original node power consumption\n",
    "        self.node_p = {node.name: node.now() for node in self.nodes}\n",
    "\n",
    "    def step(self, time: int, p_delta: float, e_delta: float, state: dict) -> None:\n",
    "        for node in self.nodes:\n",
    "            new_power = self.node_p[node.name]\n",
    "            if p_delta < 0:\n",
    "                new_power *= 0.3\n",
    "            node.set_value(new_power)"
   ]
  },
  {
   "cell_type": "markdown",
   "metadata": {},
   "source": [
    "Now we can add the controller to the basic scenario by instantiating it with a\n",
    "reference to the power meters it can control and the maximum load adjustment for\n",
    "each step. The rest of the scenario remains unchanged."
   ]
  },
  {
   "cell_type": "code",
   "execution_count": 3,
   "metadata": {},
   "outputs": [
    {
     "ename": "AttributeError",
     "evalue": "module 'vessim' has no attribute 'ComputingSystem'",
     "output_type": "error",
     "traceback": [
      "\u001b[0;31m---------------------------------------------------------------------------\u001b[0m",
      "\u001b[0;31mAttributeError\u001b[0m                            Traceback (most recent call last)",
      "Cell \u001b[0;32mIn[3], line 11\u001b[0m\n\u001b[1;32m      7\u001b[0m monitor \u001b[38;5;241m=\u001b[39m vs\u001b[38;5;241m.\u001b[39mMonitor()  \u001b[38;5;66;03m# Stores simulation result on each step\u001b[39;00m\n\u001b[1;32m      8\u001b[0m load_balancer \u001b[38;5;241m=\u001b[39m SimpleLoadBalancingController(nodes\u001b[38;5;241m=\u001b[39mnodes)\n\u001b[1;32m      9\u001b[0m environment\u001b[38;5;241m.\u001b[39madd_microgrid(\n\u001b[1;32m     10\u001b[0m     actors\u001b[38;5;241m=\u001b[39m[\n\u001b[0;32m---> 11\u001b[0m         \u001b[43mvs\u001b[49m\u001b[38;5;241;43m.\u001b[39;49m\u001b[43mComputingSystem\u001b[49m(nodes\u001b[38;5;241m=\u001b[39mnodes, pue\u001b[38;5;241m=\u001b[39m\u001b[38;5;241m1.6\u001b[39m),\n\u001b[1;32m     12\u001b[0m         vs\u001b[38;5;241m.\u001b[39mActor(\n\u001b[1;32m     13\u001b[0m             name\u001b[38;5;241m=\u001b[39m\u001b[38;5;124m\"\u001b[39m\u001b[38;5;124msolar\u001b[39m\u001b[38;5;124m\"\u001b[39m,\n\u001b[1;32m     14\u001b[0m             signal\u001b[38;5;241m=\u001b[39mvs\u001b[38;5;241m.\u001b[39mTrace\u001b[38;5;241m.\u001b[39mload(\n\u001b[1;32m     15\u001b[0m                 \u001b[38;5;124m\"\u001b[39m\u001b[38;5;124msolcast2022_global\u001b[39m\u001b[38;5;124m\"\u001b[39m, column\u001b[38;5;241m=\u001b[39m\u001b[38;5;124m\"\u001b[39m\u001b[38;5;124mBerlin\u001b[39m\u001b[38;5;124m\"\u001b[39m, params\u001b[38;5;241m=\u001b[39m{\u001b[38;5;124m\"\u001b[39m\u001b[38;5;124mscale\u001b[39m\u001b[38;5;124m\"\u001b[39m: \u001b[38;5;241m5000\u001b[39m}\n\u001b[1;32m     16\u001b[0m             ),\n\u001b[1;32m     17\u001b[0m         ),\n\u001b[1;32m     18\u001b[0m     ],\n\u001b[1;32m     19\u001b[0m     storage\u001b[38;5;241m=\u001b[39mvs\u001b[38;5;241m.\u001b[39mSimpleBattery(capacity\u001b[38;5;241m=\u001b[39m\u001b[38;5;241m500\u001b[39m, initial_soc\u001b[38;5;241m=\u001b[39m\u001b[38;5;241m0.8\u001b[39m),\n\u001b[1;32m     20\u001b[0m     controllers\u001b[38;5;241m=\u001b[39m[monitor, load_balancer],\n\u001b[1;32m     21\u001b[0m     step_size\u001b[38;5;241m=\u001b[39m\u001b[38;5;241m60\u001b[39m,  \u001b[38;5;66;03m# Global step size (can be overridden by actors or controllers)\u001b[39;00m\n\u001b[1;32m     22\u001b[0m )\n\u001b[1;32m     24\u001b[0m environment\u001b[38;5;241m.\u001b[39mrun(until\u001b[38;5;241m=\u001b[39m\u001b[38;5;241m24\u001b[39m \u001b[38;5;241m*\u001b[39m \u001b[38;5;241m3600\u001b[39m)  \u001b[38;5;66;03m# 24h\u001b[39;00m\n\u001b[1;32m     25\u001b[0m monitor\u001b[38;5;241m.\u001b[39mto_csv(\u001b[38;5;124m\"\u001b[39m\u001b[38;5;124mresult.csv\u001b[39m\u001b[38;5;124m\"\u001b[39m)\n",
      "\u001b[0;31mAttributeError\u001b[0m: module 'vessim' has no attribute 'ComputingSystem'"
     ]
    }
   ],
   "source": [
    "environment = vs.Environment(sim_start=\"2022-06-09 00:00:00\")\n",
    "\n",
    "nodes: list = [\n",
    "    vs.ConstantSignal(value=200),\n",
    "    vs.ConstantSignal(value=250),\n",
    "]\n",
    "monitor = vs.Monitor()  # Stores simulation result on each step\n",
    "load_balancer = SimpleLoadBalancingController(nodes=nodes)\n",
    "environment.add_microgrid(\n",
    "    actors=[\n",
    "        vs.ComputingSystem(nodes=nodes, pue=1.6),\n",
    "        vs.Actor(\n",
    "            name=\"solar\",\n",
    "            signal=vs.Trace.load(\n",
    "                \"solcast2022_global\", column=\"Berlin\", params={\"scale\": 5000}\n",
    "            ),\n",
    "        ),\n",
    "    ],\n",
    "    storage=vs.SimpleBattery(capacity=500, initial_soc=0.8),\n",
    "    controllers=[monitor, load_balancer],\n",
    "    step_size=60,  # Global step size (can be overridden by actors or controllers)\n",
    ")\n",
    "\n",
    "environment.run(until=24 * 3600)  # 24h\n",
    "monitor.to_csv(\"result.csv\")"
   ]
  },
  {
   "cell_type": "markdown",
   "metadata": {},
   "source": [
    "Compared to the basic example, our computing system utilizes less power from the grid when solar energy production is inadequate, thanks to our load balancer."
   ]
  },
  {
   "cell_type": "code",
   "execution_count": null,
   "metadata": {},
   "outputs": [],
   "source": [
    "import pandas as pd\n",
    "import plotly.graph_objects as go\n",
    "\n",
    "df = pd.read_csv(\"result.csv\", parse_dates=[0], index_col=0)\n",
    "# divide e_delta by step size because e_delta is energy\n",
    "df[\"grid_power\"] = df[\"e_delta\"] / 60\n",
    "\n",
    "# Create the plot\n",
    "fig = go.Figure()\n",
    "\n",
    "# Add grid power trace\n",
    "fig.add_trace(go.Scatter(\n",
    "    x=df.index, \n",
    "    y=df[\"grid_power\"], \n",
    "    mode='lines',\n",
    "    name=\"Grid Power\",\n",
    "    line=dict(color=\"blue\")\n",
    "))\n",
    "\n",
    "# Add solar power trace\n",
    "fig.add_trace(go.Scatter(\n",
    "    x=df.index, \n",
    "    y=df[\"solar.p\"], \n",
    "    mode='lines',\n",
    "    name=\"Solar\",\n",
    "    line=dict(color=\"orange\")\n",
    "))\n",
    "\n",
    "# Update layout\n",
    "fig.update_layout(\n",
    "    title=\"Load Balancing Controller - Grid and Solar Power Over Time\",\n",
    "    xaxis_title=\"Time\",\n",
    "    yaxis_title=\"Power (W)\",\n",
    "    hovermode='x unified',\n",
    "    showlegend=True,\n",
    "    margin=dict(l=0, t=40, b=0, r=0)\n",
    ")\n",
    "\n",
    "# Update x-axis to show hours\n",
    "fig.update_xaxes(tickformat=\"%H\")\n",
    "\n",
    "fig.show()"
   ]
  }
 ],
 "metadata": {
  "kernelspec": {
   "display_name": "Python 3 (ipykernel)",
   "language": "python",
   "name": "python3"
  },
  "language_info": {
   "codemirror_mode": {
    "name": "ipython",
    "version": 3
   },
   "file_extension": ".py",
   "mimetype": "text/x-python",
   "name": "python",
   "nbconvert_exporter": "python",
   "pygments_lexer": "ipython3",
   "version": "3.10.4"
  }
 },
 "nbformat": 4,
 "nbformat_minor": 4
}
