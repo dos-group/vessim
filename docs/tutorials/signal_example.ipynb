{
 "cells": [
  {
   "cell_type": "markdown",
   "metadata": {},
   "source": [
    "# Signals\n",
    "\n",
    "Most evaluations of carbon-aware approaches rely on some kind of time-stepping simulation over historical traces of carbon intensity or power production/consumption. Vessim's `Signal` simplifies the implementation of such evaluations that do not require the simulation of entire microgrids. Additionally, it's used to model grid level signals or the behavior of `Actors` in co-simulations.\n",
    "\n",
    "Vessim currently ships a `HistoricalSignal` implementation which replays datasets that are usually loaded from CSV files. We are working on live data signals to common APIs such as [WattTime](https://watttime.org/>), [Electricity Maps](https://www.electricitymaps.com), or [Solcast](https://solcast.com>).\n"
   ]
  },
  {
   "cell_type": "code",
   "execution_count": 1,
   "metadata": {
    "collapsed": false,
    "jupyter": {
     "outputs_hidden": false
    }
   },
   "outputs": [],
   "source": [
    "import pandas as pd\n",
    "import vessim as vs"
   ]
  },
  {
   "cell_type": "markdown",
   "metadata": {},
   "source": [
    "## Basic usage\n",
    "\n",
    "The `HistoricalSignal` can load datasets from pandas DataFrames, where the index describes the timestamps and each column a certain value."
   ]
  },
  {
   "cell_type": "code",
   "execution_count": 2,
   "metadata": {},
   "outputs": [],
   "source": [
    "actual = pd.DataFrame([\n",
    "   [\"2020-01-01T00:00:00\", 100, 324],\n",
    "   [\"2020-01-01T00:30:00\", 110, 357],\n",
    "   [\"2020-01-01T01:00:00\", 105, 398],\n",
    "], columns=[\"timestamp\", \"solar\", \"wind\"])\n",
    "actual = actual.set_index([\"timestamp\"])\n",
    "signal = vs.HistoricalSignal(actual)"
   ]
  },
  {
   "cell_type": "code",
   "execution_count": 3,
   "metadata": {},
   "outputs": [
    {
     "data": {
      "text/plain": [
       "100.0"
      ]
     },
     "execution_count": 3,
     "metadata": {},
     "output_type": "execute_result"
    }
   ],
   "source": [
    "signal.now(at=\"2020-01-01T00:00:00\", column=\"solar\")"
   ]
  },
  {
   "cell_type": "markdown",
   "metadata": {},
   "source": [
    "Additionally, the `HistoricalSignal` allows specifying forecasts with a 2-level multiindex, where the first column describes the time the forecast was queried and the second column the target time."
   ]
  },
  {
   "cell_type": "code",
   "execution_count": 4,
   "metadata": {},
   "outputs": [],
   "source": [
    "forecast = pd.DataFrame([\n",
    "   [\"2020-01-01T00:00:00\", \"2020-01-01T00:30:00\", 115, 370],\n",
    "   [\"2020-01-01T00:00:00\", \"2020-01-01T01:00:00\", 108, 372],\n",
    "   [\"2020-01-01T00:30:00\", \"2020-01-01T01:00:00\", 109, 372],\n",
    "   [\"2020-01-01T00:30:00\", \"2020-01-01T01:30:00\", 102, 378],\n",
    "   [\"2020-01-01T01:00:00\", \"2020-01-01T01:30:00\", 101, 382],\n",
    "   [\"2020-01-01T01:00:00\", \"2020-01-01T02:00:00\",  88, 398],\n",
    "], columns=[\"req_time\", \"forecast_time\", \"solar\", \"wind\"])\n",
    "forecast = forecast.set_index([\"req_time\", \"forecast_time\"])\n",
    "signal = vs.HistoricalSignal(actual, forecast)"
   ]
  },
  {
   "cell_type": "code",
   "execution_count": 5,
   "metadata": {},
   "outputs": [
    {
     "data": {
      "text/plain": [
       "{numpy.datetime64('2020-01-01T00:30:00.000000000'): 115.0,\n",
       " numpy.datetime64('2020-01-01T01:00:00.000000000'): 108.0}"
      ]
     },
     "execution_count": 5,
     "metadata": {},
     "output_type": "execute_result"
    }
   ],
   "source": [
    "signal.forecast(\"2020-01-01T00:00:00\", end_time=\"2020-01-01T01:00:00\", column=\"solar\")"
   ]
  },
  {
   "cell_type": "markdown",
   "metadata": {},
   "source": [
    "For more advanced features such as configuring the interpolation between values that are not present in the original dataset, please refer to the API reference of the documentation."
   ]
  },
  {
   "cell_type": "markdown",
   "metadata": {},
   "source": [
    "## Datasets\n",
    "\n",
    "Vessim comes with several datasets that can be directly loaded into a `HistoricalSignal` with the possibility of shifting and scaling. For example, `solcast2022_global` and `solcast2022_germany` are solar irradiance datasets provided by [Solcast](https://solcast.com>) as described in [this paper](https://arxiv.org/pdf/2305.15092.pdf)."
   ]
  },
  {
   "cell_type": "code",
   "execution_count": 6,
   "metadata": {},
   "outputs": [
    {
     "name": "stdout",
     "output_type": "stream",
     "text": [
      "Data is being shifted by -727 days +23:55:00\n"
     ]
    },
    {
     "data": {
      "text/plain": [
       "1.289502"
      ]
     },
     "execution_count": 6,
     "metadata": {},
     "output_type": "execute_result"
    }
   ],
   "source": [
    "dataset_signal = vs.HistoricalSignal.load(\"solcast2022_global\", params={\"scale\": 2.0, \"start_time\":\"2020-06-12T00:00:00\"})\n",
    "dataset_signal.now(at=\"2020-06-27T13:46:53\", column=\"Berlin\")"
   ]
  },
  {
   "cell_type": "markdown",
   "metadata": {},
   "source": [
    "Further documentation of available datasets can be found on our website."
   ]
  }
 ],
 "metadata": {
  "kernelspec": {
   "display_name": "Python 3 (ipykernel)",
   "language": "python",
   "name": "python3"
  },
  "language_info": {
   "codemirror_mode": {
    "name": "ipython",
    "version": 3
   },
   "file_extension": ".py",
   "mimetype": "text/x-python",
   "name": "python",
   "nbconvert_exporter": "python",
   "pygments_lexer": "ipython3",
   "version": "3.8.19"
  }
 },
 "nbformat": 4,
 "nbformat_minor": 4
}
