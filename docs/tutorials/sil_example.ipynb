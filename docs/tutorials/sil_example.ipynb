{
    "cells": [
        {
            "cell_type": "markdown",
            "metadata": {},
            "source": [
                "# Software-in-the-Loop\n",
                "\n",
                "NOTE: Software-in-the-Loop interfaces as well as documentation are in alpha stage.\n",
                "\n",
                "Vessim supports the integration of real applications running on hardware or virtualized environments.\n",
                "\n",
                "In this example, we introduce a simple node that imitates workload and periodically communicates its power consumption to the `ComputingSystem` actor. \n",
                "\n",
                "For this, we can utilize Vessim's `SilController`:\n"
            ]
        },
        {
            "cell_type": "raw",
            "metadata": {
                "raw_mimetype": "text/restructuredtext"
            },
            "source": [
                ".. autoclass:: vessim.sil.SilController\n",
                "    :noindex:"
            ]
        },
        {
            "cell_type": "code",
            "execution_count": 1,
            "metadata": {},
            "outputs": [],
            "source": [
                "from __future__ import annotations\n",
                "\n",
                "from threading import Thread\n",
                "from fastapi import FastAPI\n",
                "import time\n",
                "import requests\n",
                "\n",
                "import vessim as vs\n",
                "\n",
                "# Jupyter async bug fix\n",
                "import nest_asyncio\n",
                "\n",
                "nest_asyncio.apply()"
            ]
        },
        {
            "cell_type": "markdown",
            "metadata": {},
            "source": [
                "For this example, we want to give the Controller an API route to change the\n",
                "minimum state of charge of our battery through HTTP. This works by defining the\n",
                "`api_routes()` function which provides three arguments, we can use for our API\n",
                "routes, namely the FastAPI application, the Vessim Broker and Grid Signals from\n",
                "the Signal example."
            ]
        },
        {
            "cell_type": "code",
            "execution_count": 2,
            "metadata": {},
            "outputs": [],
            "source": [
                "def api_routes(\n",
                "    app: FastAPI,\n",
                "    broker: vs.Broker,\n",
                "    grid_signals: dict[str, vs.Signal],\n",
                "):\n",
                "    @app.put(\"/battery/min-soc\")\n",
                "    async def put_battery_min_soc(min_soc: float):\n",
                "        broker.set_event(\"battery_min_soc\", min_soc)"
            ]
        },
        {
            "cell_type": "markdown",
            "metadata": {},
            "source": [
                "We use the FastAPI `app` to define the HTTP endpoint. You can read more on the\n",
                "use of FastAPI [here](https://fastapi.tiangolo.com/tutorial/). Behind the scenes of the Vessim SiL Controller is a key-value database that holds shared memory for the simulation and the API server process. The Vessim Broker conveys between the DB and the user. To save a value in this DB, you can set an event with a key, value pair. In this case: `\"battery_min_soc\"` and `min_soc`."
            ]
        },
        {
            "cell_type": "raw",
            "metadata": {
                "raw_mimetype": "text/restructuredtext"
            },
            "source": [
                ".. autoclass:: vessim.sil.Broker\n",
                "    :noindex:"
            ]
        },
        {
            "cell_type": "markdown",
            "metadata": {},
            "source": [
                "However, it is possible that multiple event between simulation steps occur. In\n",
                "this case, you need to tell Vessim how you would like it to behave. We can do\n",
                "this through the use of collectors. For this scenario, we simply want the most\n",
                "recent value to be recognized:"
            ]
        },
        {
            "cell_type": "code",
            "execution_count": 3,
            "metadata": {},
            "outputs": [],
            "source": [
                "def battery_min_soc_collector(controller: vs.SilController, events: dict, **kwargs):\n",
                "    print(f\"Received battery.min_soc events: {events}\")\n",
                "    controller.set_parameters[\"storage:min_soc\"] = vs.get_latest_event(events)"
            ]
        },
        {
            "cell_type": "markdown",
            "metadata": {},
            "source": [
                "Because we now have a real node that we want to feed its power consumption to\n",
                "the Computing System, we need some mechanism to collect this consumption.\n",
                "Instead of the usual mock power consumer, we need to implement an HTTP power meter\n",
                "that periodically polls the power consumption from the independent node. We\n",
                "expect for now, that our remote node offers an HTTP endpoint that tells us its\n",
                "power consumption."
            ]
        },
        {
            "cell_type": "code",
            "execution_count": 4,
            "metadata": {},
            "outputs": [],
            "source": [
                "class PowerCollector(vs.CollectorSignal):\n",
                "    def __init__(\n",
                "        self,\n",
                "        port: int = 8000,\n",
                "        address: str = \"127.0.0.1\",\n",
                "        interval: int = 1,\n",
                "    ) -> None:\n",
                "        super().__init__(interval)\n",
                "        self.port = port\n",
                "        self.address = address\n",
                "\n",
                "    def collect(self) -> float:\n",
                "        return float(\n",
                "            requests.get(\n",
                "                f\"http://{self.address}:{self.port}/power\",\n",
                "            ).text\n",
                "        )"
            ]
        },
        {
            "cell_type": "markdown",
            "metadata": {},
            "source": [
                "This HTTP power consumer is subclassed from the Vessim `Signal` class that is\n",
                "accepted by the Computing System Actor."
            ]
        },
        {
            "cell_type": "raw",
            "metadata": {
                "raw_mimetype": "text/restructuredtext",
                "vscode": {
                    "languageId": "raw"
                }
            },
            "source": [
                ".. autoclass:: vessim.actor.Signal\n",
                "    :noindex:"
            ]
        },
        {
            "cell_type": "markdown",
            "metadata": {},
            "source": [
                "Now we can connect all our components."
            ]
        },
        {
            "cell_type": "code",
            "execution_count": 5,
            "metadata": {},
            "outputs": [
                {
                    "name": "stderr",
                    "output_type": "stream",
                    "text": [
                        "2024-06-21 12:19:41.079 | INFO     | mosaik.scenario:start:311 - Starting \"Actor\" as \"ComputingSystem-0\" ...\n",
                        "2024-06-21 12:19:41.080 | INFO     | mosaik.scenario:start:311 - Starting \"Actor\" as \"solar_panel\" ...\n",
                        "2024-06-21 12:19:41.081 | INFO     | mosaik.scenario:start:311 - Starting \"Grid\" as \"Grid-0\" ...\n",
                        "2024-06-21 12:19:41.081 | INFO     | mosaik.scenario:start:311 - Starting \"Controller\" as \"Monitor-0\" ...\n",
                        "2024-06-21 12:19:41.086 | INFO     | vessim.sil:start:162 - Started SiL Controller API server process 'Vessim API for microgrid 139843663438208'\n",
                        "2024-06-21 12:19:41.087 | INFO     | mosaik.scenario:start:311 - Starting \"Controller\" as \"SilController-0\" ...\n",
                        "2024-06-21 12:19:41.088 | INFO     | mosaik.scenario:start:311 - Starting \"Storage\" as \"Storage-0\" ...\n"
                    ]
                },
                {
                    "name": "stdout",
                    "output_type": "stream",
                    "text": [
                        "2024-06-21 12:19:41.095 | INFO     | mosaik.scenario:run:651 - Starting simulation.\n"
                    ]
                },
                {
                    "name": "stderr",
                    "output_type": "stream",
                    "text": [
                        "INFO:     Started server process [36309]\n",
                        "INFO:     Waiting for application startup.\n",
                        "INFO:     Application startup complete.\n",
                        "INFO:     Uvicorn running on http://127.0.0.1:8000 (Press CTRL+C to quit)\n"
                    ]
                },
                {
                    "name": "stdout",
                    "output_type": "stream",
                    "text": [
                        "Received battery.min_soc events: {datetime.datetime(2024, 6, 21, 12, 19, 48, 661628): 0.3}\n",
                        "2024-06-21 12:20:40.804 | INFO     | mosaik.scenario:run:708 - Simulation finished successfully.\n"
                    ]
                }
            ],
            "source": [
                "environment = vs.Environment(sim_start=\"2022-06-09 00:00:00\")\n",
                "\n",
                "monitor = vs.Monitor()  # stores simulation result on each step\n",
                "sil_controller = vs.SilController(  # executes software-in-the-loop controller\n",
                "    api_routes=api_routes,\n",
                "    request_collectors={\"battery_min_soc\": battery_min_soc_collector},\n",
                ")\n",
                "environment.add_microgrid(\n",
                "    actors=[\n",
                "        vs.ComputingSystem(nodes=[PowerCollector(port=8001)]),\n",
                "        vs.Actor(\n",
                "            name=\"solar_panel\",\n",
                "            signal=vs.HistoricalSignal.load(\"solcast2022_global\", column=\"Berlin\"),\n",
                "        ),\n",
                "    ],\n",
                "    storage=vs.SimpleBattery(capacity=50, initial_soc=0.8, min_soc=0.5),\n",
                "    controllers=[monitor, sil_controller],\n",
                "    step_size=1,  # global step size (can be overridden by actors or controllers)\n",
                ")\n",
                "\n",
                "environment.run(until=60, rt_factor=1, print_progress=False)\n",
                "monitor.to_csv(\"result.csv\")"
            ]
        },
        {
            "cell_type": "markdown",
            "metadata": {},
            "source": [
                "Our independent node could e.g. look like this:\n",
                "```python\n",
                "from fastapi import FastAPI\n",
                "from threading import Thread\n",
                "import random\n",
                "import time\n",
                "import uvicorn\n",
                "\n",
                "\n",
                "class NodeApiServer:\n",
                "    def __init__(self, port: int, p_static: float, p_max: float):\n",
                "        self.app = FastAPI()\n",
                "        self.port = port\n",
                "        self.p_static = p_static\n",
                "        self.p_max = p_max\n",
                "        self.utilization = 0\n",
                "        Thread(target=self._workload_sim, daemon=True).start()\n",
                "\n",
                "        @self.app.get(\"/power\")\n",
                "        async def get_power():\n",
                "            return self.p_static + self.utilization * (self.p_max - self.p_static)\n",
                "\n",
                "    def _workload_sim(self):\n",
                "        while True:\n",
                "            self.utilization = round(random.uniform(0.1, 1), 2)\n",
                "            time.sleep(2)\n",
                "\n",
                "    def start(self):\n",
                "        uvicorn.run(self.app, host=\"0.0.0.0\", port=self.port)\n",
                "\n",
                "\n",
                "if __name__ == \"__main__\":\n",
                "    NodeApiServer(port=8001, p_static=4, p_max=8).start()\n",
                "```"
            ]
        }
    ],
    "metadata": {
        "kernelspec": {
            "display_name": "Python 3 (ipykernel)",
            "language": "python",
            "name": "python3"
        },
        "language_info": {
            "codemirror_mode": {
                "name": "ipython",
                "version": 3
            },
            "file_extension": ".py",
            "mimetype": "text/x-python",
            "name": "python",
            "nbconvert_exporter": "python",
            "pygments_lexer": "ipython3",
            "version": "3.8.-1"
        }
    },
    "nbformat": 4,
    "nbformat_minor": 4
}
