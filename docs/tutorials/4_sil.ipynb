{
 "cells": [
  {
   "cell_type": "markdown",
   "id": "fe949fb0-c7eb-4378-9b78-5bb1dc427849",
   "metadata": {},
   "source": [
    "## Software-in-the-Loop (SiL) Simulation\n",
    "\n",
    "tbd:\n",
    "\n",
    "- Add documentation\n",
    "- Add mock instances for `vs.PrometheusSignal` and `vs.WatttimeSignal` "
   ]
  },
  {
   "cell_type": "code",
   "execution_count": null,
   "id": "27888ebb-159c-40fe-a210-e7542f038784",
   "metadata": {},
   "outputs": [],
   "source": [
    "from datetime import datetime\n",
    "import vessim as vs\n",
    "\n",
    "# Required for running Mosaic in Jupyter notebooks (fixes asyncio event loop conflicts)\n",
    "import nest_asyncio\n",
    "nest_asyncio.apply()"
   ]
  },
  {
   "cell_type": "code",
   "execution_count": null,
   "id": "e4f0f37f-3191-4d93-bae1-c8b8876315ce",
   "metadata": {},
   "outputs": [],
   "source": [
    "environment = vs.Environment(sim_start=datetime.now(), step_size=10)\n",
    "\n",
    "server = vs.Actor(name=\"gpu\", signal=vs.PrometheusSignal(\n",
    "    prometheus_url=\"http://localhost:30826/prometheus\",\n",
    "    query=f\"sum(DCGM_FI_DEV_POWER_USAGE)\",\n",
    "    username=\"username\",\n",
    "    password=\"xxxxxxxxxx\"\n",
    "))\n",
    "solar = vs.Actor(name=\"solar\", signal=vs.Trace.load(\n",
    "    dataset=\"solcast2022_global\",\n",
    "    column=\"Berlin\",\n",
    "    params={\"scale\": 200, \"start_time\": sim_start}\n",
    "))\n",
    "battery = vs.SimpleBattery(\n",
    "    capacity=10 * i,\n",
    "    initial_soc=0.6  # Start at 60% charge\n",
    ")\n",
    "\n",
    "microgrid = environment.add_microgrid(\n",
    "    name=f\"gpu_cluster\",\n",
    "    actors=[server, solar],\n",
    "    storage=battery if battery.capacity > 0 else None,\n",
    "    grid_signals={\"mci_index\": vs.WatttimeSignal(\n",
    "        username=\"username\",\n",
    "        password=\"xxxxxxxxxx\",\n",
    "        location=(52.5200, 13.4050),\n",
    "    )},\n",
    ")\n",
    "\n",
    "environment.add_controller(vs.Api(microgrids, export_prometheus=True))\n",
    "environment.run(until=3600*24, rt_factor=1)"
   ]
  },
  {
   "cell_type": "code",
   "execution_count": null,
   "id": "2e19eed8-f2bf-40c2-a73b-c710713a0e51",
   "metadata": {},
   "outputs": [],
   "source": []
  }
 ],
 "metadata": {
  "kernelspec": {
   "display_name": "Python 3 (ipykernel)",
   "language": "python",
   "name": "python3"
  },
  "language_info": {
   "codemirror_mode": {
    "name": "ipython",
    "version": 3
   },
   "file_extension": ".py",
   "mimetype": "text/x-python",
   "name": "python",
   "nbconvert_exporter": "python",
   "pygments_lexer": "ipython3",
   "version": "3.10.4"
  }
 },
 "nbformat": 4,
 "nbformat_minor": 5
}
