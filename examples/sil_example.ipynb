{
 "cells": [
  {
   "cell_type": "markdown",
   "metadata": {},
   "source": [
    "# Software-in-the-Loop\n",
    "\n",
    "NOTE: Software-in-the-Loop interfaces as well as documentation are in alpha stage.\n",
    "\n",
    "Vessim supports the integration of real applications running on hardware or virtualized environments.\n",
    "\n",
    "In this example, we introduce a simple node that imitates workload and periodically communicates its power consumption to the `ComputingSystem` actor. \n",
    "\n",
    "For this, we can utilize Vessim's `SilController`:\n"
   ]
  },
  {
   "cell_type": "raw",
   "metadata": {
    "raw_mimetype": "text/restructuredtext"
   },
   "source": [
    ".. autoclass:: vessim.sil.SilController\n",
    "    :noindex:"
   ]
  },
  {
   "cell_type": "code",
   "execution_count": 13,
   "metadata": {},
   "outputs": [],
   "source": [
    "from __future__ import annotations\n",
    "\n",
    "from threading import Thread\n",
    "from fastapi import FastAPI\n",
    "import time\n",
    "import requests\n",
    "\n",
    "from vessim.actor import ComputingSystem, Generator\n",
    "from vessim.controller import Monitor\n",
    "from vessim.cosim import Environment, Microgrid\n",
    "from vessim.power_meter import PowerMeter\n",
    "from vessim.signal import Signal, HistoricalSignal\n",
    "from vessim.sil import SilController, Broker, get_latest_event\n",
    "from vessim.storage import SimpleBattery\n",
    "\n",
    "# Jupyter async bug fix\n",
    "import nest_asyncio\n",
    "\n",
    "nest_asyncio.apply()"
   ]
  },
  {
   "cell_type": "markdown",
   "metadata": {},
   "source": [
    "For this example, we want to give the Controller an API route to change the\n",
    "minimum state of charge of our battery through HTTP. This works by defining the\n",
    "`api_routes()` function which provides three arguments, we can use for our API\n",
    "routes, namely the FastAPI application, the Vessim Broker and Grid Signals from\n",
    "the Signal example."
   ]
  },
  {
   "cell_type": "code",
   "execution_count": 14,
   "metadata": {},
   "outputs": [],
   "source": [
    "def api_routes(\n",
    "    app: FastAPI,\n",
    "    broker: Broker,\n",
    "    grid_signals: dict[str, Signal],\n",
    "):\n",
    "    @app.put(\"/battery/min-soc\")\n",
    "    async def put_battery_min_soc(min_soc: float):\n",
    "        broker.set_event(\"battery_min_soc\", min_soc)"
   ]
  },
  {
   "cell_type": "markdown",
   "metadata": {},
   "source": [
    "We use the FastAPI `app` to define the HTTP endpoint. You can read more on the\n",
    "use of FastAPI [here](https://fastapi.tiangolo.com/tutorial/). Behind the scenes of the Vessim SiL Controller is a Redis database that holds shared memory for the simulation and the API server process. The Vessim Broker conveys between the DB and the user. To save a value in this DB, you can set an event with a key, value pair. In this case: `\"battery_min_soc\"` and `min_soc`."
   ]
  },
  {
   "cell_type": "raw",
   "metadata": {
    "raw_mimetype": "text/restructuredtext"
   },
   "source": [
    ".. autoclass:: vessim.sil.Broker\n",
    "    :noindex:"
   ]
  },
  {
   "cell_type": "markdown",
   "metadata": {},
   "source": [
    "However, it is possible that multiple event between simulation steps occur. In\n",
    "this case, you need to tell Vessim how you would like it to behave. We can do\n",
    "this through the use of collectors. For this scenario, we simply want the most\n",
    "recent value to be recognized:"
   ]
  },
  {
   "cell_type": "code",
   "execution_count": null,
   "metadata": {},
   "outputs": [],
   "source": [
    "def battery_min_soc_collector(events: dict, microgrid: Microgrid, **kwargs):\n",
    "    print(f\"Received battery.min_soc events: {events}\")\n",
    "    assert isinstance(microgrid.storage, SimpleBattery)\n",
    "    microgrid.storage.min_soc = get_latest_event(events)"
   ]
  },
  {
   "cell_type": "markdown",
   "metadata": {},
   "source": [
    "Because we now have a real node that we want to feed its power consumption to\n",
    "the Computing System, we need some mechanism to collect this consumption.\n",
    "Instead of the usual mock power meter, we need to implement an HTTP power meter\n",
    "that periodically poll the power consumption from the independent node. We\n",
    "expect for now, that our remote node offers an HTTP endpoint that tells us its\n",
    "power consumption."
   ]
  },
  {
   "cell_type": "code",
   "execution_count": null,
   "metadata": {},
   "outputs": [],
   "source": [
    "class HttpPowerMeter(PowerMeter):\n",
    "    def __init__(\n",
    "        self,\n",
    "        name: str,\n",
    "        port: int = 8000,\n",
    "        address: str = \"127.0.0.1\",\n",
    "        collect_interval: float = 1,\n",
    "    ) -> None:\n",
    "        super().__init__(name)\n",
    "        self.port = port\n",
    "        self.address = address\n",
    "        self.collect_interval = collect_interval\n",
    "        self._p = 0.0\n",
    "        Thread(target=self._collect_loop, daemon=True).start()\n",
    "\n",
    "    def measure(self) -> float:\n",
    "        return self._p\n",
    "\n",
    "    def _collect_loop(self) -> None:\n",
    "        while True:\n",
    "            self._p = float(\n",
    "                requests.get(\n",
    "                    f\"{self.address}:{self.port}/power\",\n",
    "                ).text\n",
    "            )\n",
    "            time.sleep(self.collect_interval)"
   ]
  },
  {
   "cell_type": "markdown",
   "metadata": {},
   "source": [
    "This HTTP power meter is subclassed from the Vessim `PowerMeter` class that is\n",
    "accepted by the Computing System Actor."
   ]
  },
  {
   "cell_type": "raw",
   "metadata": {
    "raw_mimetype": "text/restructuredtext"
   },
   "source": [
    ".. autoclass:: vessim.power_meter.PowerMeter\n",
    "    :noindex:"
   ]
  },
  {
   "cell_type": "markdown",
   "metadata": {},
   "source": [
    "Now we can connect all our components."
   ]
  },
  {
   "cell_type": "code",
   "execution_count": null,
   "metadata": {},
   "outputs": [],
   "source": [
    "environment = Environment(sim_start=\"15-06-2022\")\n",
    "\n",
    "monitor = Monitor()  # stores simulation result on each step\n",
    "sil_controller = SilController(  # executes software-in-the-loop controller\n",
    "    api_routes=api_routes,\n",
    "    request_collectors={\"battery_min_soc\": battery_min_soc_collector},\n",
    ")\n",
    "environment.add_microgrid(\n",
    "    actors=[\n",
    "        ComputingSystem(power_meters=[HttpPowerMeter(name=\"sample_app\", port=8001)]),\n",
    "        Generator(signal=HistoricalSignal.from_dataset(\"solcast2022_global\"), column=\"Berlin\"),\n",
    "    ],\n",
    "    storage=SimpleBattery(capacity=100),\n",
    "    controllers=[monitor, sil_controller],\n",
    "    step_size=60,  # global step size (can be overridden by actors or controllers)\n",
    ")\n",
    "\n",
    "environment.run(until=24 * 3600, rt_factor=1, print_progress=False)\n",
    "monitor.to_csv(\"result_csv\")"
   ]
  },
  {
   "cell_type": "markdown",
   "metadata": {},
   "source": [
    "Our independent node could e.g. look like this:\n",
    "```python\n",
    "from fastapi import FastAPI\n",
    "from threading import Thread\n",
    "import random\n",
    "import time\n",
    "import uvicorn\n",
    "\n",
    "\n",
    "class NodeApiServer:\n",
    "    def __init__(self, port: int, p_static: float, p_max: float):\n",
    "        self.app = FastAPI()\n",
    "        self.port = port\n",
    "        self.p_static = p_static\n",
    "        self.p_max = p_max\n",
    "        self.utilization = 0\n",
    "        Thread(target=self._workload_sim, daemon=True).start()\n",
    "\n",
    "        @self.app.get(\"/power\")\n",
    "        async def get_power():\n",
    "            return self.p_static + self.utilization * (self.p_max - self.p_static)\n",
    "\n",
    "    def _workload_sim(self):\n",
    "        while True:\n",
    "            self.utilization = round(random.uniform(0.1, 1), 2)\n",
    "            time.sleep(2)\n",
    "\n",
    "    def start(self):\n",
    "        uvicorn.run(self.app, host=\"0.0.0.0\", port=self.port)\n",
    "\n",
    "\n",
    "if __name__ == \"__main__\":\n",
    "    NodeApiServer(port=8001, p_static=4, p_max=8).start()\n",
    "```"
   ]
  }
 ],
 "metadata": {
  "kernelspec": {
   "display_name": "Python 3 (ipykernel)",
   "language": "python",
   "name": "python3"
  },
  "language_info": {
   "codemirror_mode": {
    "name": "ipython",
    "version": 3
   },
   "file_extension": ".py",
   "mimetype": "text/x-python",
   "name": "python",
   "nbconvert_exporter": "python",
   "pygments_lexer": "ipython3",
   "version": "3.8.12"
  }
 },
 "nbformat": 4,
 "nbformat_minor": 4
}
